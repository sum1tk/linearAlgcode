{
  "nbformat": 4,
  "nbformat_minor": 0,
  "metadata": {
    "colab": {
      "provenance": []
    },
    "kernelspec": {
      "name": "python3",
      "display_name": "Python 3"
    },
    "language_info": {
      "name": "python"
    }
  },
  "cells": [
    {
      "cell_type": "markdown",
      "source": [
        "#MINIMUM SPANNING TREE(KRUSKAL'S ALGORITHM)"
      ],
      "metadata": {
        "id": "zsl8dTMOBOMj"
      }
    },
    {
      "cell_type": "code",
      "execution_count": null,
      "metadata": {
        "colab": {
          "base_uri": "https://localhost:8080/"
        },
        "id": "A5wyCyTVApip",
        "outputId": "2ceedf7b-a329-4aaa-a196-82cc7f748ef5"
      },
      "outputs": [
        {
          "output_type": "stream",
          "name": "stdout",
          "text": [
            "Edges in the MST:\n",
            "2 -- 3 == 4\n",
            "0 -- 3 == 5\n",
            "0 -- 1 == 10\n"
          ]
        }
      ],
      "source": [
        "class Graph:\n",
        "    def __init__(self, vertices):\n",
        "        self.V = vertices\n",
        "        self.graph = []\n",
        "\n",
        "    def add_edge(self, u, v, w):\n",
        "        self.graph.append([u, v, w])\n",
        "\n",
        "    def find(self, parent, i):\n",
        "        if parent[i] != i:\n",
        "            parent[i] = self.find(parent, parent[i])\n",
        "        return parent[i]\n",
        "\n",
        "    def union(self, parent, rank, x, y):\n",
        "        xroot = self.find(parent, x)\n",
        "        yroot = self.find(parent, y)\n",
        "\n",
        "        if rank[xroot] < rank[yroot]:\n",
        "            parent[xroot] = yroot\n",
        "        elif rank[xroot] > rank[yroot]:\n",
        "            parent[yroot] = xroot\n",
        "        else:\n",
        "            parent[yroot] = xroot\n",
        "            rank[xroot] += 1\n",
        "\n",
        "    def kruskal_mst(self):\n",
        "        result = []\n",
        "        i, e = 0, 0\n",
        "        self.graph = sorted(self.graph, key=lambda item: item[2])\n",
        "        parent = []\n",
        "        rank = []\n",
        "\n",
        "        for node in range(self.V):\n",
        "            parent.append(node)\n",
        "            rank.append(0)\n",
        "\n",
        "        while e < self.V - 1:\n",
        "            u, v, w = self.graph[i]\n",
        "            i += 1\n",
        "            x = self.find(parent, u)\n",
        "            y = self.find(parent, v)\n",
        "\n",
        "            if x != y:\n",
        "                e += 1\n",
        "                result.append([u, v, w])\n",
        "                self.union(parent, rank, x, y)\n",
        "\n",
        "        print(\"Edges in the MST:\")\n",
        "        for u, v, weight in result:\n",
        "            print(f\"{u} -- {v} == {weight}\")\n",
        "\n",
        "# Example usage\n",
        "g = Graph(4)\n",
        "g.add_edge(0, 1, 10)\n",
        "g.add_edge(0, 2, 6)\n",
        "g.add_edge(0, 3, 5)\n",
        "g.add_edge(1, 3, 15)\n",
        "g.add_edge(2, 3, 4)\n",
        "\n",
        "g.kruskal_mst()"
      ]
    },
    {
      "cell_type": "markdown",
      "source": [
        "#OR\n",
        "\n"
      ],
      "metadata": {
        "id": "0N-x7wVWA71i"
      }
    },
    {
      "cell_type": "code",
      "source": [
        "class Graph:\n",
        "    def __init__(self, vertices):\n",
        "        self.V = vertices\n",
        "        self.graph = []\n",
        "\n",
        "    def add_edge(self, u, v, w):\n",
        "        self.graph.append([u, v, w])\n",
        "\n",
        "    def kruskal_mst(self):\n",
        "        def find(parent, i):\n",
        "            if parent[i] == i:\n",
        "                return i\n",
        "            return find(parent, parent[i])\n",
        "\n",
        "        def union(parent, rank, x, y):\n",
        "            x_root = find(parent, x)\n",
        "            y_root = find(parent, y)\n",
        "\n",
        "            if rank[x_root] < rank[y_root]:\n",
        "                parent[x_root] = y_root\n",
        "            elif rank[x_root] > rank[y_root]:\n",
        "                parent[y_root] = x_root\n",
        "            else:\n",
        "                parent[y_root] = x_root\n",
        "                rank[x_root] += 1\n",
        "\n",
        "        result = []\n",
        "        i = 0\n",
        "        e = 0\n",
        "\n",
        "        self.graph = sorted(self.graph, key=lambda item: item[2])\n",
        "        parent = [i for i in range(self.V)]\n",
        "        rank = [0] * self.V\n",
        "\n",
        "        while e < self.V - 1:\n",
        "            u, v, w = self.graph[i]\n",
        "            i += 1\n",
        "            x = find(parent, u)\n",
        "            y = find(parent, v)\n",
        "\n",
        "            if x != y:\n",
        "                e += 1\n",
        "                result.append([u, v, w])\n",
        "                union(parent, rank, x, y)\n",
        "\n",
        "        return result\n",
        "\n",
        "# Example usage:\n",
        "g = Graph(4)\n",
        "g.add_edge(0, 1, 10)\n",
        "g.add_edge(0, 2, 6)\n",
        "g.add_edge(0, 3, 5)\n",
        "g.add_edge(1, 3, 15)\n",
        "g.add_edge(2, 3, 4)\n",
        "\n",
        "mst = g.kruskal_mst()\n",
        "for u, v, weight in mst:\n",
        "    print(f\"Edge: {u} - {v}, Weight: {weight}\")"
      ],
      "metadata": {
        "colab": {
          "base_uri": "https://localhost:8080/"
        },
        "id": "NpALV0oyA2z3",
        "outputId": "6af5c01a-d14e-4637-c722-7a18077bb68e"
      },
      "execution_count": null,
      "outputs": [
        {
          "output_type": "stream",
          "name": "stdout",
          "text": [
            "Edge: 2 - 3, Weight: 4\n",
            "Edge: 0 - 3, Weight: 5\n",
            "Edge: 0 - 1, Weight: 10\n"
          ]
        }
      ]
    },
    {
      "cell_type": "markdown",
      "source": [
        "#GRADIENT DESCENT"
      ],
      "metadata": {
        "id": "A0pxeiDLBTO1"
      }
    },
    {
      "cell_type": "code",
      "source": [
        "import numpy as np\n",
        "\n",
        "def gradient_descent(x, y, learning_rate=0.01, iterations=1000):\n",
        "    \"\"\"\n",
        "    Simple linear regression using gradient descent\n",
        "    \"\"\"\n",
        "    n = len(x)\n",
        "    m_curr = b_curr = 0\n",
        "\n",
        "    for i in range(iterations):\n",
        "        y_pred = m_curr * x + b_curr\n",
        "        cost = (1/n) * sum([val**2 for val in (y - y_pred)])\n",
        "        md = -(2/n) * sum(x * (y - y_pred))\n",
        "        bd = -(2/n) * sum(y - y_pred)\n",
        "        m_curr = m_curr - learning_rate * md\n",
        "        b_curr = b_curr - learning_rate * bd\n",
        "\n",
        "        if i % 100 == 0:\n",
        "            print(f\"Iteration {i}: m = {m_curr}, b = {b_curr}, cost = {cost}\")\n",
        "\n",
        "    return m_curr, b_curr\n",
        "\n",
        "# Example usage\n",
        "x = np.array([1, 2, 3, 4, 5])\n",
        "y = np.array([5, 7, 9, 11, 13])\n",
        "\n",
        "m, b = gradient_descent(x, y)\n",
        "print(f\"\\nFinal parameters: m = {m}, b = {b}\")"
      ],
      "metadata": {
        "colab": {
          "base_uri": "https://localhost:8080/"
        },
        "id": "1VfwgV8TA3eU",
        "outputId": "4d7772c9-3880-4881-f085-30d6e5e38e9f"
      },
      "execution_count": null,
      "outputs": [
        {
          "output_type": "stream",
          "name": "stdout",
          "text": [
            "Iteration 0: m = 0.62, b = 0.18, cost = 89.0\n",
            "Iteration 100: m = 2.4469521472074027, b = 1.3863609314182666, cost = 0.4771638970482712\n",
            "Iteration 200: m = 2.318550968403369, b = 1.8499299283889075, cost = 0.24238368296104512\n",
            "Iteration 300: m = 2.227037100288903, b = 2.1803240294752406, cost = 0.12312299846905057\n",
            "Iteration 400: m = 2.1618134930367656, b = 2.4158019469939687, cost = 0.06254246394319472\n",
            "Iteration 500: m = 2.115327435451919, b = 2.5836313648214624, cost = 0.031769530020575504\n",
            "Iteration 600: m = 2.082195972154773, b = 2.703246459880537, cost = 0.016137884152517098\n",
            "Iteration 700: m = 2.058582572412138, b = 2.788498325442612, cost = 0.008197518337583162\n",
            "Iteration 800: m = 2.0417528706146477, b = 2.8492588889670167, cost = 0.004164071712246711\n",
            "Iteration 900: m = 2.029758034391168, b = 2.8925640536747035, cost = 0.002115212496108267\n",
            "\n",
            "Final parameters: m = 2.021281045682893, b = 2.923168672645527\n"
          ]
        }
      ]
    },
    {
      "cell_type": "markdown",
      "source": [
        "#Lagrange Multiplier (Optimization with Constraint)"
      ],
      "metadata": {
        "id": "ful6UcE2D04z"
      }
    },
    {
      "cell_type": "code",
      "source": [
        "from scipy.optimize import minimize\n",
        "import numpy as np\n",
        "\n",
        "def lagrange_multiplier_example():\n",
        "    \"\"\"\n",
        "    Example: Maximize f(x,y) = x + y subject to x^2 + y^2 = 1\n",
        "    \"\"\"\n",
        "    # Objective function (we minimize -f to maximize f)\n",
        "    objective = lambda x: -(x[0] + x[1])\n",
        "\n",
        "    # Constraint\n",
        "    constraint = {'type': 'eq', 'fun': lambda x: x[0]**2 + x[1]**2 - 1}\n",
        "\n",
        "    # Initial guess\n",
        "    x0 = np.array([0.5, 0.5])\n",
        "\n",
        "    # Solve\n",
        "    solution = minimize(objective, x0, constraints=constraint)\n",
        "\n",
        "    print(\"Solution:\")\n",
        "    print(f\"x = {solution.x[0]:.4f}, y = {solution.x[1]:.4f}\")\n",
        "    print(f\"Maximum value of f(x,y) = {-solution.fun:.4f}\")\n",
        "    print(f\"Constraint satisfaction: x² + y² = {solution.x[0]**2 + solution.x[1]**2:.6f}\")\n",
        "\n",
        "# Run the example\n",
        "lagrange_multiplier_example()"
      ],
      "metadata": {
        "colab": {
          "base_uri": "https://localhost:8080/"
        },
        "id": "ixFxAglYBfaS",
        "outputId": "a37b6eba-6f94-43ca-ad6b-ac4d7779640b"
      },
      "execution_count": null,
      "outputs": [
        {
          "output_type": "stream",
          "name": "stdout",
          "text": [
            "Solution:\n",
            "x = 0.7071, y = 0.7071\n",
            "Maximum value of f(x,y) = 1.4142\n",
            "Constraint satisfaction: x² + y² = 1.000000\n"
          ]
        }
      ]
    },
    {
      "cell_type": "code",
      "source": [],
      "metadata": {
        "id": "PXIJnRrND9Hm"
      },
      "execution_count": null,
      "outputs": []
    }
  ]
}