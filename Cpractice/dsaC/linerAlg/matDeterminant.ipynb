{
 "cells": [
  {
   "cell_type": "code",
   "execution_count": 17,
   "metadata": {},
   "outputs": [
    {
     "name": "stdout",
     "output_type": "stream",
     "text": [
      "299\n",
      "-4.0625730065050515e+289\n"
     ]
    }
   ],
   "source": [
    "import numpy as np\n",
    "mat=np.random.randn(2,2)\n",
    "m=300\n",
    "mat2=np.random.randn(m,m)\n",
    "\n",
    "mat2[:,2]=6*mat2[:,0]\n",
    "print(np.linalg.matrix_rank(mat2))\n",
    "print(np.linalg.det(mat2))"
   ]
  }
 ],
 "metadata": {
  "kernelspec": {
   "display_name": "Python 3",
   "language": "python",
   "name": "python3"
  },
  "language_info": {
   "codemirror_mode": {
    "name": "ipython",
    "version": 3
   },
   "file_extension": ".py",
   "mimetype": "text/x-python",
   "name": "python",
   "nbconvert_exporter": "python",
   "pygments_lexer": "ipython3",
   "version": "3.11.1"
  }
 },
 "nbformat": 4,
 "nbformat_minor": 2
}
