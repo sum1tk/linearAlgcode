{
 "cells": [
  {
   "cell_type": "code",
   "execution_count": 2,
   "metadata": {},
   "outputs": [
    {
     "name": "stdout",
     "output_type": "stream",
     "text": [
      "4\n",
      "4\n",
      "3\n"
     ]
    }
   ],
   "source": [
    "import numpy as np\n",
    "m=4\n",
    "n=6\n",
    "A=np.random.rand(m,n)\n",
    "\n",
    "#rank of matrix\n",
    "ra=np.linalg.matrix_rank(A)\n",
    "print(ra)\n",
    "# set last column to be repeat of penultimate column\n",
    "B=A\n",
    "B[:,-1]=B[:,-2]\n",
    "rb=np.linalg.matrix_rank(B)\n",
    "print(rb)\n",
    "\n",
    "B[-1,:]=B[-2,:]\n",
    "rb=np.linalg.matrix_rank(B)\n",
    "print(rb)"
   ]
  },
  {
   "cell_type": "code",
   "execution_count": 3,
   "metadata": {},
   "outputs": [
    {
     "name": "stdout",
     "output_type": "stream",
     "text": [
      "4\n",
      "4\n",
      "3\n"
     ]
    }
   ],
   "source": [
    "#code challenge\n",
    "A=np.random.randn(10,4)\n",
    "print(np.linalg.matrix_rank(A))\n",
    "Ar=np.random.randn(4,10)\n",
    "# Ar[:,-6:]=np.zeros((10,6))\n",
    "B=A@Ar\n",
    "print(np.linalg.matrix_rank(B))\n",
    "\n",
    "def redRankMat(size,rank):\n",
    "    A=np.random.randn(size,rank)\n",
    "    B=np.random.randn(rank,size)\n",
    "    return A@B\n",
    "print(np.linalg.matrix_rank(redRankMat(15,3)))"
   ]
  },
  {
   "cell_type": "code",
   "execution_count": 6,
   "metadata": {},
   "outputs": [
    {
     "name": "stdout",
     "output_type": "stream",
     "text": [
      "5 3\n",
      "5 3\n"
     ]
    }
   ],
   "source": [
    "A=np.random.randn(5,5)\n",
    "l=3\n",
    "B=redRankMat(5,3)\n",
    "print(np.linalg.matrix_rank(A),np.linalg.matrix_rank(B))\n",
    "print(np.linalg.matrix_rank(l*A),np.linalg.matrix_rank(l*B))"
   ]
  },
  {
   "cell_type": "code",
   "execution_count": 7,
   "metadata": {},
   "outputs": [
    {
     "name": "stdout",
     "output_type": "stream",
     "text": [
      "False\n"
     ]
    }
   ],
   "source": [
    "print(np.linalg.matrix_rank(l*A)==l*np.linalg.matrix_rank(A))"
   ]
  },
  {
   "cell_type": "code",
   "execution_count": 15,
   "metadata": {},
   "outputs": [
    {
     "name": "stdout",
     "output_type": "stream",
     "text": [
      "2 2\n",
      "2 2\n",
      "2\n",
      "4\n"
     ]
    }
   ],
   "source": [
    "A=np.random.rand(2,5)\n",
    "B=np.random.rand(2,5)\n",
    "AtA=A.T@A\n",
    "BtB=B.T@B\n",
    "AB=AtA@BtB\n",
    "#find their ranks\n",
    "print(np.linalg.matrix_rank(A),np.linalg.matrix_rank(B))\n",
    "print(np.linalg.matrix_rank(AtA),np.linalg.matrix_rank(BtB))\n",
    "print(np.linalg.matrix_rank(AB))\n",
    "print(np.linalg.matrix_rank(AtA+BtB))"
   ]
  },
  {
   "cell_type": "code",
   "execution_count": 37,
   "metadata": {},
   "outputs": [
    {
     "name": "stdout",
     "output_type": "stream",
     "text": [
      "29\n",
      "30\n"
     ]
    }
   ],
   "source": [
    "#shifting to increase rank\n",
    "m=30\n",
    "n=25\n",
    "A=np.random.randn(m,m)\n",
    "A=np.round(10*A.T@A)#not particular reason\n",
    "#reducing the rank\n",
    "A[:,-2]=A[:,-1]\n",
    "\n",
    "print(np.linalg.matrix_rank(A))\n",
    "#shift amount\n",
    "l=.01\n",
    "\n",
    "#shifting\n",
    "B=A+l*np.eye(m)\n",
    "print(np.linalg.matrix_rank(B))"
   ]
  },
  {
   "cell_type": "code",
   "execution_count": 5,
   "metadata": {},
   "outputs": [
    {
     "name": "stdout",
     "output_type": "stream",
     "text": [
      "[[1 0]\n",
      " [2 0]\n",
      " [2 1]\n",
      " [2 2]]\n",
      "2\n",
      "2\n"
     ]
    }
   ],
   "source": [
    "v=np.array([[1,2,3,4]]).T#creating a psuedo 2D array\n",
    "\n",
    "S=np.vstack(([4,3,6,2],[0,4,0,1])).T\n",
    "\n",
    "T=np.vstack(([1,2,2,2],[0,0,1,2])).T\n",
    "print(T)\n",
    "Sv=np.concatenate((S,v),axis=1)\n",
    "St=np.concatenate((T,v),axis=1)\n",
    "print(np.linalg.matrix_rank(S))\n",
    "print(np.linalg.matrix_rank(St))"
   ]
  }
 ],
 "metadata": {
  "kernelspec": {
   "display_name": "Python 3",
   "language": "python",
   "name": "python3"
  },
  "language_info": {
   "codemirror_mode": {
    "name": "ipython",
    "version": 3
   },
   "file_extension": ".py",
   "mimetype": "text/x-python",
   "name": "python",
   "nbconvert_exporter": "python",
   "pygments_lexer": "ipython3",
   "version": "3.11.1"
  },
  "orig_nbformat": 4
 },
 "nbformat": 4,
 "nbformat_minor": 2
}
