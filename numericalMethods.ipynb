{
 "cells": [
  {
   "cell_type": "code",
   "execution_count": 22,
   "metadata": {},
   "outputs": [],
   "source": [
    "import math \n",
    "import numpy as np\n"
   ]
  },
  {
   "cell_type": "code",
   "execution_count": 14,
   "metadata": {},
   "outputs": [
    {
     "name": "stdout",
     "output_type": "stream",
     "text": [
      "Iteration 0: a:4,b:5,c:4.5,f(c), 0.125\n",
      "Iteration 1: a:4,b:4.5,c:4.25,f(c), -5.484375\n",
      "Iteration 2: a:4.25,b:4.5,c:4.375,f(c), -2.822265625\n",
      "Iteration 3: a:4.375,b:4.5,c:4.4375,f(c), -1.385009765625\n",
      "Iteration 4: a:4.4375,b:4.5,c:4.46875,f(c), -0.639190673828125\n",
      "Iteration 5: a:4.46875,b:4.5,c:4.484375,f(c), -0.2594032287597656\n",
      "Iteration 6: a:4.484375,b:4.5,c:4.4921875,f(c), -0.0677800178527832\n",
      "Iteration 7: a:4.4921875,b:4.5,c:4.49609375,f(c), 0.028465211391448975\n",
      "Iteration 8: a:4.4921875,b:4.49609375,c:4.494140625,f(c), -0.01969357579946518\n",
      "Iteration 9: a:4.494140625,b:4.49609375,c:4.4951171875,f(c), 0.0043767718598246574\n",
      "Iteration 10: a:4.494140625,b:4.4951171875,c:4.49462890625,f(c), -0.0076606631046161056\n",
      "Iteration 11: a:4.49462890625,b:4.4951171875,c:4.494873046875,f(c), -0.0016425109497504309\n",
      "Iteration 12: a:4.494873046875,b:4.4951171875,c:4.4949951171875,f(c), 0.0013669891177414684\n",
      "Iteration 13: a:4.494873046875,b:4.4949951171875,c:4.49493408203125,f(c), -0.00013779624964627146\n",
      "Root: None\n"
     ]
    }
   ],
   "source": [
    "def f(x):\n",
    "    return x**3 - 4*x**2 - 10\n",
    "\n",
    "def bisection(f,a,b,tol=1e-9):\n",
    "    i = 0\n",
    "    while (abs(a-b)>tol):\n",
    "        c = (a+b)/2\n",
    "        initially = str(f\"Iteration {i}: a:{a},b:{b},c:{c},f(c),\")\n",
    "        if f(c)==0:\n",
    "            return c\n",
    "        elif f(c)*f(a)<0:\n",
    "            b=c\n",
    "        else:\n",
    "            a=c\n",
    "        print(initially,f(c))\n",
    "        i +=1\n",
    "         \n",
    "\n",
    "\n",
    "root = bisection(f, 4, 5, 1e-4)\n",
    "print(\"Root:\", root)\n"
   ]
  },
  {
   "cell_type": "code",
   "execution_count": 18,
   "metadata": {},
   "outputs": [
    {
     "name": "stdout",
     "output_type": "stream",
     "text": [
      "iter 1-- a:0,b:1,c:0.6850733573260451,f(c): 0.08929927648185998\n",
      "iter 2-- a:0.6850733573260451,b:1,c:0.736298997613654,f(c): 0.004660039038142605\n",
      "iter 3-- a:0.736298997613654,b:1,c:0.7389453559657132,f(c): 0.000233925665770629\n",
      "iter 4-- a:0.7389453559657132,b:1,c:0.7390781308800257,f(c): 1.1719174194513293e-05\n",
      "iter 5-- a:0.7390781308800257,b:1,c:0.7390847824489231,f(c): 5.870465491497612e-07\n",
      "iter 6-- a:0.7390847824489231,b:1,c:0.7390851156443783,f(c): 2.9406672541476553e-08\n",
      "iter 7-- a:0.7390851156443783,b:1,c:0.7390851323349952,f(c): 1.4730555664144163e-09\n",
      "iter 8-- a:0.7390851323349952,b:1,c:0.7390851331710709,f(c): 7.378908595256917e-11\n",
      "iter 9-- a:0.7390851331710709,b:1,c:0.7390851332129521,f(c): 3.696265515884534e-12\n",
      "iter 10-- a:0.7390851332129521,b:1,c:0.73908513321505,f(c): 1.851852005074761e-13\n",
      "iter 11-- a:0.73908513321505,b:1,c:0.7390851332151551,f(c): 9.2148511043888e-15\n",
      "iter 12-- a:0.7390851332151551,b:1,c:0.7390851332151605,f(c): 3.3306690738754696e-16\n"
     ]
    },
    {
     "data": {
      "text/plain": [
       "0.7390851332151607"
      ]
     },
     "execution_count": 18,
     "metadata": {},
     "output_type": "execute_result"
    }
   ],
   "source": [
    "def regulafalsi(f,a,b,tol):\n",
    "    i=1\n",
    "    while abs(a-b)>tol:\n",
    "        c = (f(b)*a-f(a)*b)/(f(b)-f(a))\n",
    "\n",
    "        initially = str(f\"iter {i}-- a:{a},b:{b},c:{c},f(c):\")\n",
    "\n",
    "        if f(c) == 0:\n",
    "            return c\n",
    "        elif f(c)*f(a)<0:\n",
    "            b = c\n",
    "        else:\n",
    "            a = c\n",
    "        print(initially, f(c))\n",
    "        i+=1\n",
    "    return c\n",
    "\n",
    "regulafalsi(lambda x: math.cos(x) - x,0,1,0.0001)"
   ]
  },
  {
   "cell_type": "code",
   "execution_count": 28,
   "metadata": {},
   "outputs": [
    {
     "name": "stdout",
     "output_type": "stream",
     "text": [
      "iteration 1: x:-0.880332899571582 f(x):0.04535115463649053\n",
      "iteration 2: x:-0.8656841631760818 f(x):0.0006323133963189731\n",
      "iteration 3: x:-0.865474075952977 f(x):1.289199819121123e-07\n",
      "iteration 4: x:-0.8654740331016162 f(x):5.218048215738236e-15\n",
      "Root: -0.8654740331016162\n",
      "Iterations: 4\n"
     ]
    }
   ],
   "source": [
    "def newton_raphson(f,df,x0,tol,maximumiters):\n",
    "    for i in range(0,maximumiters):\n",
    "        x1 = x0 - (f(x0)/df(x0))\n",
    "        print(f\"iteration {i+1}: x:{x1} f(x):{f(x1)}\")\n",
    "        if abs(x0 - x1) < tol:\n",
    "            return x1 ,i+1\n",
    "        x0 = x1\n",
    "    return i,maximumiters\n",
    "\n",
    "def f(x):\n",
    "    return -x**3 - np.cos(x)\n",
    "\n",
    "def df(x):\n",
    "    return -3*x**2 + np.sin(x)\n",
    "\n",
    "root, iterations = newton_raphson(f, df, -1, 1e-6, 100)\n",
    "print(f\"Root: {root}\")\n",
    "print(f\"Iterations: {iterations}\")\n"
   ]
  },
  {
   "cell_type": "code",
   "execution_count": 55,
   "metadata": {},
   "outputs": [
    {
     "name": "stdout",
     "output_type": "stream",
     "text": [
      "A: \n",
      "[[ 4.  -2.   1. ]\n",
      " [ 0.   3.  -1.5]\n",
      " [ 1.  -2.   4. ]], \n",
      "b: \n",
      "[ 11.  -10.5  17. ], \n",
      "\n",
      "\n",
      "A: \n",
      "[[ 4.   -2.    1.  ]\n",
      " [ 0.    3.   -1.5 ]\n",
      " [ 0.   -1.5   3.75]], \n",
      "b: \n",
      "[ 11.   -10.5   14.25], \n",
      "\n",
      "\n",
      "A: \n",
      "[[ 4.  -2.   1. ]\n",
      " [ 0.   3.  -1.5]\n",
      " [ 0.   0.   3. ]], \n",
      "b: \n",
      "[ 11.  -10.5   9. ], \n",
      "\n",
      "\n",
      "[ 1. -2.  3.]\n"
     ]
    }
   ],
   "source": [
    "def gauss_elim(A,b):\n",
    "    if A.shape[0] != A.shape[1]:\n",
    "        print(\"incorrect size of A\")\n",
    "        return\n",
    "    \n",
    "    if b.shape[0] != A.shape[0]:\n",
    "        print(\"incorrect siz of b\")\n",
    "        return\n",
    "    \n",
    "    m = len(b)\n",
    "\n",
    "    for i in range(0,m):\n",
    "        if A[i][i] == 0:\n",
    "            print(\"division by zero error\")\n",
    "            return\n",
    "        for j in range(i+1,m):\n",
    "            scaling_factor = A[j][i]/A[i][i]\n",
    "            A[j] = A[j] - scaling_factor * A[i]\n",
    "            b[j] = b[j] - scaling_factor * b[i]\n",
    "            print(f\"A: \\n{A}, \\nb: \\n{b}, \\n\\n\")\n",
    "\n",
    "    b[-1] = b[-1] / A[-1][-1]\n",
    "\n",
    "    for k in range(m-2,-1,-1):\n",
    "        b[k] = (b[k]-np.dot(A[k][k+1:],b[k+1:])) / A[k][k]\n",
    "        \n",
    "\n",
    "    return b\n",
    "    \n",
    "A = np.array([[4.0, -2.0, 1.0], [-2.0, 4.0, -2.0], [1.0, -2.0, 4.0]])\n",
    "b = np.array([11.0, -16.0, 17.0])\n",
    "\n",
    "x = gauss_elim(A, b)\n",
    "print(x)"
   ]
  },
  {
   "cell_type": "code",
   "execution_count": 51,
   "metadata": {},
   "outputs": [
    {
     "name": "stdout",
     "output_type": "stream",
     "text": [
      "[[1. 0. 0.]\n",
      " [2. 1. 0.]\n",
      " [3. 4. 1.]]\n",
      "[[ 1.  1.  0.]\n",
      " [ 0. -1. -1.]\n",
      " [ 0.  0.  3.]]\n",
      "[[ 1.  1.  0.]\n",
      " [ 2.  1. -1.]\n",
      " [ 3. -1. -1.]]\n"
     ]
    }
   ],
   "source": [
    "import scipy\n",
    "def lu(A):\n",
    "    U = A.copy()\n",
    "    L = np.zeros(A.shape,dtype = np.double)\n",
    "    m = A.shape[0]\n",
    "    for i in range(0,m):\n",
    "        for j in range(i+1, m):\n",
    "            L[j,i] = U[j][i] / U[i][i]\n",
    "            U[j] = U[j] - L[j][i]*U[i]\n",
    "        L[i,i]=1\n",
    "\n",
    "    \n",
    "    return L,U\n",
    "A = np.array([[ 1,  1,  0],\n",
    "       [ 2,  1, -1],\n",
    "       [ 3, -1, -1]],dtype=np.double)\n",
    "\n",
    "L, U = lu(A)\n",
    "print(L)\n",
    "print(U)\n",
    "\n",
    "# P,L,U = scipy.linalg.lu(A)\n",
    "print(L@U)\n",
    "    "
   ]
  },
  {
   "cell_type": "code",
   "execution_count": 54,
   "metadata": {},
   "outputs": [
    {
     "name": "stdout",
     "output_type": "stream",
     "text": [
      "0.9979429863543572\n"
     ]
    }
   ],
   "source": [
    "def trapezoidal(f,a,b,n):\n",
    "    h = (b-a) / n\n",
    "    s = f(a) + f(b)\n",
    "\n",
    "    for i in range(1,n):\n",
    "        s += 2*f(a + i*h)\n",
    "    return h*s*0.5\n",
    "\n",
    "a = 0\n",
    "b = math.pi/2\n",
    "n = 10\n",
    "\n",
    "def f(x):\n",
    "  return  math.sin(x)\n",
    "\n",
    "result = trapezoidal(f, a, b, n)\n",
    "print(result)"
   ]
  },
  {
   "cell_type": "code",
   "execution_count": 63,
   "metadata": {},
   "outputs": [
    {
     "data": {
      "text/plain": [
       "1.000000000338236"
      ]
     },
     "execution_count": 63,
     "metadata": {},
     "output_type": "execute_result"
    }
   ],
   "source": [
    "def simpson1by3(f,a,b,n):\n",
    "    h = (b - a)/n\n",
    "    s = f(a) + f(b)\n",
    "    for i in range(1,n):\n",
    "        if i%2==0:\n",
    "            s += 2*f(a+i*h)\n",
    "        else:\n",
    "            s += 4*f(a+i*h)\n",
    "    return s*(h/3)\n",
    "\n",
    "def f(x):\n",
    "    return math.sin(x)\n",
    "\n",
    "a = 0\n",
    "b = math.pi/2\n",
    "n = 100\n",
    "\n",
    "simpson1by3(f, a, b, n)"
   ]
  },
  {
   "cell_type": "code",
   "execution_count": 64,
   "metadata": {},
   "outputs": [
    {
     "data": {
      "text/plain": [
       "0.9999607300917497"
      ]
     },
     "execution_count": 64,
     "metadata": {},
     "output_type": "execute_result"
    }
   ],
   "source": [
    "def simpson3by8(f,a,b,n):\n",
    "    h = (b-a) / n\n",
    "    s = f(a) + f(b)\n",
    "\n",
    "    for i in range(1,n):\n",
    "        if i%3 == 0:\n",
    "            s += 2*f(a + i*h)\n",
    "        else:\n",
    "            s += 3*f(a + i*h)\n",
    "    return s*h*3*0.125\n",
    "\n",
    "def f(x):\n",
    "    return math.sin(x)\n",
    "\n",
    "a = 0\n",
    "b = math.pi/2\n",
    "n = 10000\n",
    "\n",
    "\n",
    "simpson3by8(f, a, b, n)"
   ]
  },
  {
   "cell_type": "code",
   "execution_count": 70,
   "metadata": {},
   "outputs": [
    {
     "name": "stdout",
     "output_type": "stream",
     "text": [
      "iter 1:- x1=0.100 y1=-0.900\n",
      "iter 2:- x2=0.200 y2=-0.830\n",
      "iter 3:- x3=0.300 y3=-0.787\n",
      "iter 4:- x4=0.400 y4=-0.768\n",
      "iter 5:- x5=0.500 y5=-0.771\n",
      "iter 6:- x6=0.600 y6=-0.794\n",
      "iter 7:- x7=0.700 y7=-0.835\n",
      "iter 8:- x8=0.800 y8=-0.891\n",
      "iter 9:- x9=0.900 y9=-0.962\n",
      "iter 10:- x10=1.000 y10=-1.046\n",
      "iter 11:- x11=1.100 y11=-1.141\n",
      "iter 12:- x12=1.200 y12=-1.247\n",
      "iter 13:- x13=1.300 y13=-1.363\n",
      "iter 14:- x14=1.400 y14=-1.486\n",
      "iter 15:- x15=1.500 y15=-1.618\n",
      "iter 16:- x16=1.600 y16=-1.756\n",
      "iter 17:- x17=1.700 y17=-1.900\n",
      "iter 18:- x18=1.800 y18=-2.050\n",
      "iter 19:- x19=1.900 y19=-2.205\n",
      "iter 20:- x20=2.000 y20=-2.365\n",
      "iter 21:- x21=2.100 y21=-2.528\n",
      "iter 22:- x22=2.200 y22=-2.695\n",
      "iter 23:- x23=2.300 y23=-2.866\n",
      "iter 24:- x24=2.400 y24=-3.039\n",
      "iter 25:- x25=2.500 y25=-3.215\n",
      "iter 26:- x26=2.600 y26=-3.394\n",
      "iter 27:- x27=2.700 y27=-3.574\n",
      "iter 28:- x28=2.800 y28=-3.757\n",
      "iter 29:- x29=2.900 y29=-3.941\n",
      "iter 30:- x30=3.000 y30=-4.127\n",
      "iter 31:- x31=3.100 y31=-4.314\n",
      "iter 32:- x32=3.200 y32=-4.503\n",
      "iter 33:- x33=3.300 y33=-4.693\n",
      "iter 34:- x34=3.400 y34=-4.883\n",
      "iter 35:- x35=3.500 y35=-5.075\n",
      "iter 36:- x36=3.600 y36=-5.268\n",
      "iter 37:- x37=3.700 y37=-5.461\n",
      "iter 38:- x38=3.800 y38=-5.655\n",
      "iter 39:- x39=3.900 y39=-5.849\n",
      "iter 40:- x40=4.000 y40=-6.044\n",
      "iter 41:- x41=4.100 y41=-6.240\n",
      "iter 42:- x42=4.200 y42=-6.436\n",
      "iter 43:- x43=4.300 y43=-6.632\n",
      "iter 44:- x44=4.400 y44=-6.829\n",
      "iter 45:- x45=4.500 y45=-7.026\n",
      "iter 46:- x46=4.600 y46=-7.224\n",
      "iter 47:- x47=4.700 y47=-7.421\n",
      "iter 48:- x48=4.800 y48=-7.619\n",
      "iter 49:- x49=4.900 y49=-7.817\n",
      "iter 50:- x50=5.000 y50=-8.015\n"
     ]
    }
   ],
   "source": [
    "def euler(f,y0,x0,x_end,h):\n",
    "    x = np.arange(x0,x_end+h,h)\n",
    "    y = np.zeros(len(x))\n",
    "\n",
    "    y[0] = y0\n",
    "    for i in range(1,len(x)):\n",
    "        y[i] = y[i-1] + h*f(x[i-1],y[i-1])\n",
    "        print(f\"iter {i}:- x{i}={x[i]:.3f} y{i}={y[i]:.3f}\")\n",
    "    return x,y\n",
    "\n",
    "def f(x, y):\n",
    "    return -2*x - y\n",
    "\n",
    "y0 = -1\n",
    "x0 = 0\n",
    "x_end = 5\n",
    "h = 0.1\n",
    "\n",
    "x, y = euler(f, y0, x0, x_end, h)\n",
    "i = 1 "
   ]
  },
  {
   "cell_type": "code",
   "execution_count": 79,
   "metadata": {},
   "outputs": [
    {
     "name": "stdout",
     "output_type": "stream",
     "text": [
      "inter 1:- x1:0.100 y1:0.004833\n",
      "inter 2:- x2:0.200 y2:0.018667\n",
      "inter 3:- x3:0.300 y3:0.040501\n",
      "inter 4:- x4:0.400 y4:0.069339\n",
      "inter 5:- x5:0.500 y5:0.104187\n",
      "inter 6:- x6:0.600 y6:0.144059\n",
      "inter 7:- x7:0.700 y7:0.187981\n",
      "inter 8:- x8:0.800 y8:0.234989\n",
      "inter 9:- x9:0.900 y9:0.284143\n",
      "inter 10:- x10:1.000 y10:0.334524\n",
      "inter 11:- x11:1.100 y11:0.385241\n",
      "inter 12:- x12:1.200 y12:0.435438\n",
      "inter 13:- x13:1.300 y13:0.484296\n",
      "inter 14:- x14:1.400 y14:0.531040\n",
      "inter 15:- x15:1.500 y15:0.574944\n",
      "inter 16:- x16:1.600 y16:0.615335\n",
      "inter 17:- x17:1.700 y17:0.651596\n",
      "inter 18:- x18:1.800 y18:0.683174\n",
      "inter 19:- x19:1.900 y19:0.709579\n",
      "inter 20:- x20:2.000 y20:0.730390\n",
      "inter 21:- x21:2.100 y21:0.745256\n",
      "inter 22:- x22:2.200 y22:0.753900\n",
      "inter 23:- x23:2.300 y23:0.756120\n",
      "inter 24:- x24:2.400 y24:0.751787\n",
      "inter 25:- x25:2.500 y25:0.740850\n",
      "inter 26:- x26:2.600 y26:0.723331\n",
      "inter 27:- x27:2.700 y27:0.699328\n",
      "inter 28:- x28:2.800 y28:0.669010\n",
      "inter 29:- x29:2.900 y29:0.632615\n",
      "inter 30:- x30:3.000 y30:0.590449\n",
      "inter 31:- x31:3.100 y31:0.542882\n",
      "inter 32:- x32:3.200 y32:0.490341\n",
      "inter 33:- x33:3.300 y33:0.433308\n",
      "inter 34:- x34:3.400 y34:0.372315\n",
      "inter 35:- x35:3.500 y35:0.307935\n",
      "inter 36:- x36:3.600 y36:0.240781\n",
      "inter 37:- x37:3.700 y37:0.171493\n",
      "inter 38:- x38:3.800 y38:0.100740\n",
      "inter 39:- x39:3.900 y39:0.029204\n",
      "inter 40:- x40:4.000 y40:-0.042422\n",
      "inter 41:- x41:4.100 y41:-0.113440\n",
      "inter 42:- x42:4.200 y42:-0.183160\n",
      "inter 43:- x43:4.300 y43:-0.250899\n",
      "inter 44:- x44:4.400 y44:-0.315996\n",
      "inter 45:- x45:4.500 y45:-0.377813\n",
      "inter 46:- x46:4.600 y46:-0.435743\n",
      "inter 47:- x47:4.700 y47:-0.489220\n",
      "inter 48:- x48:4.800 y48:-0.537717\n",
      "inter 49:- x49:4.900 y49:-0.580759\n",
      "inter 50:- x50:5.000 y50:-0.617924\n",
      "inter 51:- x51:5.100 y51:-0.648848\n",
      "inter 52:- x52:5.200 y52:-0.673227\n",
      "inter 53:- x53:5.300 y53:-0.690825\n",
      "inter 54:- x54:5.400 y54:-0.701470\n",
      "inter 55:- x55:5.500 y55:-0.705061\n",
      "inter 56:- x56:5.600 y56:-0.701567\n",
      "inter 57:- x57:5.700 y57:-0.691026\n",
      "inter 58:- x58:5.800 y58:-0.673547\n",
      "inter 59:- x59:5.900 y59:-0.649307\n",
      "inter 60:- x60:6.000 y60:-0.618553\n",
      "inter 61:- x61:6.100 y61:-0.581594\n",
      "inter 62:- x62:6.200 y62:-0.538801\n",
      "inter 63:- x63:6.300 y63:-0.490604\n",
      "inter 64:- x64:6.400 y64:-0.437487\n",
      "inter 65:- x65:6.500 y65:-0.379982\n",
      "inter 66:- x66:6.600 y66:-0.318665\n",
      "inter 67:- x67:6.700 y67:-0.254151\n",
      "inter 68:- x68:6.800 y68:-0.187085\n",
      "inter 69:- x69:6.900 y69:-0.118138\n",
      "inter 70:- x70:7.000 y70:-0.048002\n",
      "inter 71:- x71:7.100 y71:0.022624\n",
      "inter 72:- x72:7.200 y72:0.093032\n",
      "inter 73:- x73:7.300 y73:0.162517\n",
      "inter 74:- x74:7.400 y74:0.230386\n",
      "inter 75:- x75:7.500 y75:0.295959\n",
      "inter 76:- x76:7.600 y76:0.358580\n",
      "inter 77:- x77:7.700 y77:0.417624\n",
      "inter 78:- x78:7.800 y78:0.472499\n",
      "inter 79:- x79:7.900 y79:0.522657\n",
      "inter 80:- x80:8.000 y80:0.567597\n",
      "inter 81:- x81:8.100 y81:0.606868\n",
      "inter 82:- x82:8.200 y82:0.640080\n",
      "inter 83:- x83:8.300 y83:0.666898\n",
      "inter 84:- x84:8.400 y84:0.687056\n",
      "inter 85:- x85:8.500 y85:0.700351\n",
      "inter 86:- x86:8.600 y86:0.706650\n",
      "inter 87:- x87:8.700 y87:0.705891\n",
      "inter 88:- x88:8.800 y88:0.698080\n",
      "inter 89:- x89:8.900 y89:0.683296\n",
      "inter 90:- x90:9.000 y90:0.661686\n",
      "inter 91:- x91:9.100 y91:0.633465\n",
      "inter 92:- x92:9.200 y92:0.598917\n",
      "inter 93:- x93:9.300 y93:0.558385\n",
      "inter 94:- x94:9.400 y94:0.512275\n",
      "inter 95:- x95:9.500 y95:0.461047\n",
      "inter 96:- x96:9.600 y96:0.405214\n",
      "inter 97:- x97:9.700 y97:0.345332\n",
      "inter 98:- x98:9.800 y98:0.282001\n",
      "inter 99:- x99:9.900 y99:0.215852\n",
      "inter 100:- x100:10.000 y100:0.147548\n"
     ]
    }
   ],
   "source": [
    "def runge_kutta(f,x0,y0,x_end,h):\n",
    "    x = np.arange(x0,x_end+h,h)\n",
    "    y = np.zeros(len(x))\n",
    "    y[0]=y0\n",
    "\n",
    "    for i in range(1,len(x)):\n",
    "        xi = x[i-1]\n",
    "        yi = y[i-1]\n",
    "        k1 = h*f(xi,yi)\n",
    "        k2 = h*f(xi+(h/2),yi+k1/2)\n",
    "        k3 = h*f(xi+(h/2),yi+k2/2)\n",
    "        k4 = h*f(xi+h,yi+k3)\n",
    "        k = (k1 + 2*k2 + 2*k3 + k4)/6\n",
    "\n",
    "        y[i] = yi + k\n",
    "        print(f\"inter {i}:- x{i}:{x[i]:.3f} y{i}:{y[i]:.6f}\")\n",
    "    return x,y\n",
    "\n",
    "def f(x, y):\n",
    "    return np.sin(x) - y\n",
    "\n",
    "y0 = 0\n",
    "x0 = 0\n",
    "x_end = 10\n",
    "h = 0.1\n",
    "x, y = runge_kutta(f, y0, x0, x_end, h)"
   ]
  },
  {
   "cell_type": "code",
   "execution_count": 102,
   "metadata": {},
   "outputs": [
    {
     "name": "stdout",
     "output_type": "stream",
     "text": [
      "3.414213562373095\n",
      "[-0.70711076  1.         -0.7071028 ]\n"
     ]
    }
   ],
   "source": [
    "np.random.seed(123)\n",
    "def power_method(A,x=np.random.randn(A.shape[0]),iterations = 100, tol =1e-5):\n",
    "    \n",
    "    for i in range(1,iterations):\n",
    "        Ax = np.dot(A,x)\n",
    "\n",
    "        eigen_value = np.max(np.abs(Ax))\n",
    "\n",
    "        x = Ax/eigen_value\n",
    "\n",
    "        if np.linalg.norm(np.dot(A, x) - eigen_value * x) < tol:\n",
    "            break\n",
    "    return eigen_value, x\n",
    "\n",
    "A = np.array([[2, -1, 0], [-1, 2, -1], [0, -1, 2]])\n",
    "eigen_value, x = power_method(A)\n",
    "print(eigen_value)\n",
    "print(x)"
   ]
  },
  {
   "cell_type": "code",
   "execution_count": 103,
   "metadata": {},
   "outputs": [
    {
     "data": {
      "text/plain": [
       "(array([[ 0.5       , -0.5       ,  0.74838327],\n",
       "        [ 0.5       ,  0.5       , -0.57229309],\n",
       "        [ 0.5       ,  0.5       ,  0.30815782],\n",
       "        [ 0.5       , -0.5       , -0.13206764]]),\n",
       " array([[ 2.        ,  3.        ,  2.        ],\n",
       "        [ 0.        ,  5.        , -2.        ],\n",
       "        [ 0.35218036, -1.67285672,  4.75443489]]))"
      ]
     },
     "execution_count": 103,
     "metadata": {},
     "output_type": "execute_result"
    }
   ],
   "source": [
    "def QR(A):\n",
    "    Q = np.zeros(A.shape)\n",
    "    \n",
    "    for i,column in enumerate(A.T):\n",
    "        Q[:,i] = column\n",
    "        for prev in Q.T[:i]:\n",
    "            Q[:,i] -= (prev @ column)/(prev @ prev)\n",
    "    Q /= np.linalg.norm(Q, axis = 0)\n",
    "    R = Q.T@A\n",
    "    return Q, R\n",
    "\n",
    "A = np.array([[1, -1, 4],\n",
    "              [1, 4, -2],\n",
    "              [1, 4, 2],\n",
    "              [1, -1, 0]],dtype=float)\n",
    "QR(A)\n",
    "\n"
   ]
  },
  {
   "cell_type": "code",
   "execution_count": 104,
   "metadata": {},
   "outputs": [
    {
     "data": {
      "text/plain": [
       "(array([[-0.5,  0.5, -0.5],\n",
       "        [-0.5, -0.5,  0.5],\n",
       "        [-0.5, -0.5, -0.5],\n",
       "        [-0.5,  0.5,  0.5]]),\n",
       " array([[-2., -3., -2.],\n",
       "        [ 0., -5.,  2.],\n",
       "        [ 0.,  0., -4.]]))"
      ]
     },
     "execution_count": 104,
     "metadata": {},
     "output_type": "execute_result"
    }
   ],
   "source": [
    "np.linalg.qr(A)"
   ]
  }
 ],
 "metadata": {
  "kernelspec": {
   "display_name": "Python 3",
   "language": "python",
   "name": "python3"
  },
  "language_info": {
   "codemirror_mode": {
    "name": "ipython",
    "version": 3
   },
   "file_extension": ".py",
   "mimetype": "text/x-python",
   "name": "python",
   "nbconvert_exporter": "python",
   "pygments_lexer": "ipython3",
   "version": "3.11.1"
  }
 },
 "nbformat": 4,
 "nbformat_minor": 2
}
