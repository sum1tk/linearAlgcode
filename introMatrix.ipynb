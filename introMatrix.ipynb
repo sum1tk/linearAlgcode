{
 "cells": [
  {
   "cell_type": "code",
   "execution_count": null,
   "metadata": {},
   "outputs": [],
   "source": [
    "import numpy as np\n",
    "#square matrix \n",
    "s=np.random.randn(5,5)\n",
    "r=np.random.randn(5,2)\n",
    "c=np.concatenate((s,r),axis=1)\n",
    "print(s,r)\n",
    "print(c)\n",
    "#identity\n",
    "i=np.eye(3)\n",
    "print(i)\n",
    "\n",
    "#zero\n",
    "z=np.zeros((4,4))\n",
    "print(z)\n",
    "\n",
    "#diagonal\n",
    "d=np.diag([1,3,5,7])\n",
    "print(d)\n",
    "\n",
    "#triangular\n",
    "S=np.random.rand(3,3)\n",
    "u=np.triu(S)\n",
    "l=np.tril(S)\n",
    "print(S,\"\\n\",l,\"\\n\",u)\n",
    "\n",
    "A = np.random.randn(3,2)\n",
    "B = np.random.randn(3,4)\n",
    "C = np.concatenate((A,B),axis=1)\n",
    "print(C)\n",
    "\n"
   ]
  },
  {
   "cell_type": "code",
   "execution_count": 9,
   "metadata": {},
   "outputs": [],
   "source": [
    "import numpy as np\n",
    "A=np.random.randn(5,4)\n",
    "B=np.random.randn(5,2)\n",
    "C=np.random.randn(5,4)\n",
    "\n",
    "#A+B\n",
    "A+C\n",
    "#shifting \n",
    "A=np.random.randn(5,5)\n",
    "l= .3 #lambda\n",
    "Ds=A+l*np.eye(5)"
   ]
  },
  {
   "cell_type": "code",
   "execution_count": 13,
   "metadata": {},
   "outputs": [
    {
     "name": "stdout",
     "output_type": "stream",
     "text": [
      "[[ 3.57269922 -1.98218602  0.36555435  0.09491598 -4.21889734]\n",
      " [-0.35842132 -4.06358934  3.10544604  2.10560705  2.19782035]\n",
      " [ 5.64105474  0.55311234 -2.78007079  0.68361843  3.34641298]\n",
      " [-4.53046317 -0.71135576 -5.4912759   2.51416472  0.43080839]\n",
      " [ 0.01124234  3.18432159 -2.12140687 -0.70037582 -3.88984998]]\n",
      "[[ 3.57269922 -1.98218602  0.36555435  0.09491598 -4.21889734]\n",
      " [-0.35842132 -4.06358934  3.10544604  2.10560705  2.19782035]\n",
      " [ 5.64105474  0.55311234 -2.78007079  0.68361843  3.34641298]\n",
      " [-4.53046317 -0.71135576 -5.4912759   2.51416472  0.43080839]\n",
      " [ 0.01124234  3.18432159 -2.12140687 -0.70037582 -3.88984998]]\n"
     ]
    }
   ],
   "source": [
    "A=np.random.randn(5,5)\n",
    "B=np.random.randn(5,5)\n",
    "\n",
    "print(2*(A+B))\n",
    "print(2*A+2*B)"
   ]
  },
  {
   "cell_type": "code",
   "execution_count": null,
   "metadata": {},
   "outputs": [],
   "source": [
    "#in complex number use \n",
    "#np.matrix(C).h"
   ]
  },
  {
   "cell_type": "code",
   "execution_count": 18,
   "metadata": {},
   "outputs": [
    {
     "name": "stdout",
     "output_type": "stream",
     "text": [
      "[ 2. -3.  1.  3.]\n",
      "[[ 2.  0.  0.  0.]\n",
      " [ 0. -3.  0.  0.]\n",
      " [ 0.  0.  1.  0.]\n",
      " [ 0.  0.  0.  3.]]\n",
      "3.0\n",
      "3.0\n"
     ]
    }
   ],
   "source": [
    "A=np.round(5*(np.random.randn(4,4)))\n",
    "# extracting diagonal\n",
    "print(np.diag(A))\n",
    "d=np.diag(A)\n",
    "print(np.diag(d))\n",
    "#trace \n",
    "print(np.trace(A))\n",
    "print(sum(np.diag(A)))"
   ]
  },
  {
   "cell_type": "code",
   "execution_count": 20,
   "metadata": {},
   "outputs": [
    {
     "name": "stdout",
     "output_type": "stream",
     "text": [
      "-5.181849206748916\n",
      "-5.181849206748916\n",
      "-1.6848959757039497\n",
      "-1.6848959757039488\n"
     ]
    }
   ],
   "source": [
    "#linearity of trace\n",
    "A=np.random.randn(4,4)\n",
    "B=np.random.randn(4,4)\n",
    "print(np.trace(A+B))\n",
    "print(np.trace(A)+np.trace(B))\n",
    "\n",
    "l=3 #lambda\n",
    "print(np.trace(l*A))\n",
    "print(l*(np.trace(A)))\n"
   ]
  },
  {
   "cell_type": "code",
   "execution_count": 25,
   "metadata": {},
   "outputs": [
    {
     "name": "stdout",
     "output_type": "stream",
     "text": [
      "[[11 24 37 50]\n",
      " [12 25 38 51]\n",
      " [13 26 39 52]]\n",
      " \n",
      "[[101 104 107 110]\n",
      " [202 205 208 211]\n",
      " [303 306 309 312]]\n"
     ]
    }
   ],
   "source": [
    "#broadcasting matrix arithmetic\n",
    "A=np.reshape(np.arange(1,13),(3,4),'F')\n",
    "#range operator 1-12\n",
    "#the reshape to 3x4 in colum mapping ('F')/row ('C')\n",
    "\n",
    "r=[10,20,30,40]\n",
    "c=[100,200,300]\n",
    "\n",
    "# broadcast on the rows\n",
    "print(A+r)\n",
    "print(' ')\n",
    "\n",
    "# broadcast on the columns\n",
    "#print(A+c)\n",
    "print(A+np.reshape(c,(len(c),1))) # only works for explicit column vectors"
   ]
  }
 ],
 "metadata": {
  "kernelspec": {
   "display_name": "Python 3",
   "language": "python",
   "name": "python3"
  },
  "language_info": {
   "codemirror_mode": {
    "name": "ipython",
    "version": 3
   },
   "file_extension": ".py",
   "mimetype": "text/x-python",
   "name": "python",
   "nbconvert_exporter": "python",
   "pygments_lexer": "ipython3",
   "version": "3.11.1"
  },
  "orig_nbformat": 4
 },
 "nbformat": 4,
 "nbformat_minor": 2
}
